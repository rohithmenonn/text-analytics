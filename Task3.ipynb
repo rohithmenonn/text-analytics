{
 "cells": [
  {
   "cell_type": "code",
   "execution_count": 2,
   "metadata": {},
   "outputs": [],
   "source": [
    "from nltk.stem import PorterStemmer"
   ]
  },
  {
   "cell_type": "code",
   "execution_count": 3,
   "metadata": {},
   "outputs": [],
   "source": [
    "tokens=['മത്സരത്തിൽ','ഞാൻ','വിജയിച്ചു','എന്ന്','കരുതി','ഞാൻ','ചിരിച്ചു']"
   ]
  },
  {
   "cell_type": "code",
   "execution_count": 4,
   "metadata": {},
   "outputs": [
    {
     "name": "stdout",
     "output_type": "stream",
     "text": [
      "['മത്സരത്തിൽ', 'ഞാൻ', 'വിജയിച്ചു', 'എന്ന്', 'കരുതി', 'ഞാൻ', 'ചിരിച്ചു']\n"
     ]
    }
   ],
   "source": [
    "print(tokens)"
   ]
  },
  {
   "cell_type": "code",
   "execution_count": 5,
   "metadata": {},
   "outputs": [],
   "source": [
    "ps = PorterStemmer()"
   ]
  },
  {
   "cell_type": "code",
   "execution_count": 9,
   "metadata": {},
   "outputs": [
    {
     "name": "stdout",
     "output_type": "stream",
     "text": [
      "മത്സരത്തിൽ\n",
      "ഞാൻ\n",
      "വിജയിച്ചു\n",
      "എന്ന്\n",
      "കരുതി\n",
      "ഞാൻ\n",
      "ചിരിച്ചു\n"
     ]
    }
   ],
   "source": [
    "for w in tokens:\n",
    "    print(ps.stem(w))"
   ]
  },
  {
   "cell_type": "code",
   "execution_count": 10,
   "metadata": {},
   "outputs": [],
   "source": [
    "def remove_stopwords(wordlist):\n",
    "    stopwords = ['ഞാൻ','എന്ന്']\n",
    "    return[w for w in wordlist if w not in stopwords]"
   ]
  },
  {
   "cell_type": "code",
   "execution_count": 11,
   "metadata": {},
   "outputs": [
    {
     "data": {
      "text/plain": [
       "['മത്സരത്തിൽ', 'വിജയിച്ചു', 'കരുതി', 'ചിരിച്ചു']"
      ]
     },
     "execution_count": 11,
     "metadata": {},
     "output_type": "execute_result"
    }
   ],
   "source": [
    "remove_stopwords(tokens)"
   ]
  },
  {
   "cell_type": "code",
   "execution_count": 17,
   "metadata": {},
   "outputs": [],
   "source": [
    "def my_stemmer(wordlist):\n",
    "    stemmer_dict = {\n",
    "'വിജയം':('വിജയത്തെ','വിജയിച്ചു','വിജയയ്ക്കണം'),\n",
    "'മത്സരം':('മത്സരത്തിൽ','മല്സരിക്കാൻ','മത്സരിക്കണം'),\n",
    "'കരുതി':('കരുതണം','കരുതാൻ','കരുതുമ്പോൾ'),\n",
    "'ചിരി':('ചിരിക്കണം','ചിരിച്ചു','ചിരിക്കാൻ')\n",
    "    }\n",
    "    result=[]\n",
    "    for word in wordlist:\n",
    "        for key, value in stemmer_dict.items():\n",
    "            if word in value:\n",
    "                result.append(key)\n",
    "    return result"
   ]
  },
  {
   "cell_type": "code",
   "execution_count": 18,
   "metadata": {},
   "outputs": [
    {
     "name": "stdout",
     "output_type": "stream",
     "text": [
      "['മത്സരം', 'വിജയം', 'ചിരി']\n"
     ]
    }
   ],
   "source": [
    "print(my_stemmer(tokens))"
   ]
  },
  {
   "cell_type": "code",
   "execution_count": null,
   "metadata": {},
   "outputs": [],
   "source": []
  }
 ],
 "metadata": {
  "kernelspec": {
   "display_name": "Python 3",
   "language": "python",
   "name": "python3"
  },
  "language_info": {
   "codemirror_mode": {
    "name": "ipython",
    "version": 3
   },
   "file_extension": ".py",
   "mimetype": "text/x-python",
   "name": "python",
   "nbconvert_exporter": "python",
   "pygments_lexer": "ipython3",
   "version": "3.8.5"
  }
 },
 "nbformat": 4,
 "nbformat_minor": 4
}
